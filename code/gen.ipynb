{
 "cells": [
  {
   "cell_type": "code",
   "execution_count": 1,
   "metadata": {},
   "outputs": [],
   "source": [
    "import pickle\n",
    "import random\n",
    "from matplotlib import pyplot as plt\n",
    "from collections import Counter, namedtuple\n",
    "\n",
    "token_tuple = namedtuple(\n",
    "        \"token\",\n",
    "        [\"index\", \"text\", \"lemma\", \"pos\", \"tag\", \"dep\", \"parent\", \"parent_index\"],\n",
    "    )"
   ]
  },
  {
   "cell_type": "code",
   "execution_count": 2,
   "metadata": {},
   "outputs": [
    {
     "data": {
      "text/plain": [
       "126799"
      ]
     },
     "execution_count": 2,
     "metadata": {},
     "output_type": "execute_result"
    }
   ],
   "source": [
    "path = \"../data/passage_tokens.pkl\"\n",
    "with open(path, \"rb\") as f:\n",
    "    passage_tokens = pickle.load(f)\n",
    "len(passage_tokens)"
   ]
  },
  {
   "cell_type": "code",
   "execution_count": 3,
   "metadata": {},
   "outputs": [],
   "source": [
    "pid_set = set(passage_tokens.keys())"
   ]
  },
  {
   "cell_type": "code",
   "execution_count": 4,
   "metadata": {},
   "outputs": [],
   "source": [
    "def pass_token(t):\n",
    "    return t[3] == \"PUNCT\" or t[3] not in [\"NOUN\", \"VERB\", \"ADJ\", \"ADV\"] or t[5] == \"ROOT\""
   ]
  },
  {
   "cell_type": "code",
   "execution_count": 5,
   "metadata": {},
   "outputs": [
    {
     "name": "stdout",
     "output_type": "stream",
     "text": [
      "definitions(NOUN) -compound-> Ribbit(NOUN)\n",
      "Discuss(VERB) -dobj-> definitions(NOUN)\n",
      "with(ADP) -pobj-> community(NOUN)\n",
      "doing(VERB) -dobj-> best(ADJ)\n",
      "doing(VERB) -advcl-> make(VERB)\n",
      "make(VERB) -ccomp-> sure(ADJ)\n",
      "is(AUX) -nsubj-> content(NOUN)\n",
      "is(AUX) -acomp-> useful(ADJ)\n",
      "useful(ADJ) -conj-> accurate(ADJ)\n",
      "accurate(ADJ) -conj-> safe(ADJ)\n",
      "by(ADP) -pobj-> chance(NOUN)\n",
      "chance(NOUN) -acl-> spot(VERB)\n",
      "comment(NOUN) -amod-> inappropriate(ADJ)\n",
      "spot(VERB) -dobj-> comment(NOUN)\n",
      "use(VERB) -advcl-> navigating(VERB)\n",
      "through(ADP) -pobj-> website(NOUN)\n",
      "use(VERB) -dobj-> form(NOUN)\n",
      "use(VERB) -xcomp-> let(VERB)\n",
      "let(VERB) -ccomp-> know(VERB)\n",
      "use(VERB) -conj-> take(VERB)\n",
      "take(VERB) -dobj-> care(NOUN)\n",
      "take(VERB) -advmod-> shortly(ADV)\n"
     ]
    }
   ],
   "source": [
    "for pid, sent_dict in passage_tokens.items():\n",
    "    s_t = []\n",
    "    for sent_id, sent_tuples in sent_dict.items():\n",
    "        s_t += sent_tuples\n",
    "        # print(f\"sentence {sent_id+1} in passage {pid}:\")\n",
    "    for t_t in s_t:\n",
    "        if pass_token(t_t):\n",
    "            continue\n",
    "        current_token = token_tuple(*t_t)\n",
    "        parent_token = token_tuple(*s_t[current_token.parent_index])\n",
    "        print(f\"{parent_token.text}({parent_token.pos}) -{current_token.dep}-> {current_token.text}({current_token.pos})\")\n",
    "    break"
   ]
  },
  {
   "cell_type": "code",
   "execution_count": null,
   "metadata": {},
   "outputs": [],
   "source": []
  }
 ],
 "metadata": {
  "kernelspec": {
   "display_name": "whg",
   "language": "python",
   "name": "python3"
  },
  "language_info": {
   "codemirror_mode": {
    "name": "ipython",
    "version": 3
   },
   "file_extension": ".py",
   "mimetype": "text/x-python",
   "name": "python",
   "nbconvert_exporter": "python",
   "pygments_lexer": "ipython3",
   "version": "3.11.3"
  }
 },
 "nbformat": 4,
 "nbformat_minor": 2
}
