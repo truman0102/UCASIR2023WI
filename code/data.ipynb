{
 "cells": [
  {
   "cell_type": "code",
   "execution_count": 1,
   "metadata": {},
   "outputs": [
    {
     "name": "stdout",
     "output_type": "stream",
     "text": [
      "collection.sampled.tsv\n",
      "train_sample_queries.tsv\n",
      "train_sample_passv2_qrels.tsv\n",
      "val_2021_53_queries.tsv\n",
      "val_2021_passage_top100.txt\n",
      "val_2021.qrels.pass.final.txt\n",
      "test_2022_76_queries.tsv\n",
      "test_2022_passage_top100.txt\n",
      "test_2022.qrels.pass.withDupes.txt\n"
     ]
    }
   ],
   "source": [
    "import os\n",
    "import csv\n",
    "import json\n",
    "import pickle\n",
    "import pandas as pd\n",
    "import spacy\n",
    "from spacy.lang.en.stop_words import STOP_WORDS\n",
    "from spacy import displacy\n",
    "nlp = spacy.load('en_core_web_sm')\n",
    "\n",
    "from utils import Data\n",
    "\n",
    "data_processor = Data(root_path=\"../\")\n",
    "\n",
    "for file in data_processor.data_dict.keys():\n",
    "    print(file)"
   ]
  },
  {
   "cell_type": "code",
   "execution_count": 2,
   "metadata": {},
   "outputs": [
    {
     "name": "stdout",
     "output_type": "stream",
     "text": [
      "读取文件的格式为('pid', 'passage')\n",
      "Passage ID: msmarco_passage_05_512736984\n",
      "Passage content: Discuss these Ribbit definitions with the community: × Close. Report Comment. We're doing our best to make sure our content is useful, accurate and safe. If by any chance you spot an inappropriate comment while navigating through our website please use this form to let us know, and we'll take care of it shortly.\n",
      "['discuss', 'ribbit', 'definition', 'community', 'close', 'Report', 'Comment', 'good', 'sure', 'content', 'useful', 'accurate', 'safe', 'chance', 'spot', 'inappropriate', 'comment', 'navigate', 'website', 'use', 'form', 'let', 'know', 'care', 'shortly']\n"
     ]
    }
   ],
   "source": [
    "for idx, row in enumerate(data_processor.yield_file('collection.sampled.tsv')):\n",
    "    pid, passage = row\n",
    "    doc = nlp(passage)\n",
    "    print(f\"Passage ID: {pid}\")\n",
    "    print(f\"Passage content: {passage}\")\n",
    "    print([token.lemma_ for token in doc if not token.is_stop and not token.is_punct and not token.is_space and token.is_alpha])\n",
    "    break"
   ]
  },
  {
   "cell_type": "code",
   "execution_count": 3,
   "metadata": {},
   "outputs": [
    {
     "name": "stdout",
     "output_type": "stream",
     "text": [
      "读取文件的格式为('qid', 'query')\n",
      "train_sample_queries(qid='989639', query='where is ogdensburg ny')\n",
      "train_sample_queries(qid='661863', query='what foods should a person in diverticulitis exacerbation avoid')\n",
      "train_sample_queries(qid='406306', query='is chris cornell married')\n",
      "train_sample_queries(qid='132755', query='definition of basketball')\n"
     ]
    }
   ],
   "source": [
    "for idx, row in enumerate(data_processor.yield_file('train_sample_queries.tsv')):\n",
    "    print(row)\n",
    "    qid, query = row\n",
    "    if idx > 2:\n",
    "        break"
   ]
  },
  {
   "cell_type": "code",
   "execution_count": 4,
   "metadata": {},
   "outputs": [
    {
     "name": "stdout",
     "output_type": "stream",
     "text": [
      "读取文件的格式为('qid', 'mark', 'pid', 'rating')\n",
      "train_sample_passv2_qrels(qid='1185869', mark='0', pid='msmarco_passage_08_840101254', rating='1')\n",
      "train_sample_passv2_qrels(qid='645590', mark='0', pid='msmarco_passage_61_310962365', rating='1')\n",
      "train_sample_passv2_qrels(qid='827277', mark='0', pid='msmarco_passage_36_735439741', rating='1')\n",
      "train_sample_passv2_qrels(qid='14562', mark='0', pid='msmarco_passage_00_867054103', rating='1')\n",
      "train_sample_passv2_qrels(qid='708236', mark='0', pid='msmarco_passage_03_576438477', rating='1')\n",
      "train_sample_passv2_qrels(qid='306992', mark='0', pid='msmarco_passage_03_757919813', rating='1')\n",
      "train_sample_passv2_qrels(qid='441269', mark='0', pid='msmarco_passage_03_158685688', rating='1')\n"
     ]
    }
   ],
   "source": [
    "for idx, row in enumerate(data_processor.yield_file('train_sample_passv2_qrels.tsv')):\n",
    "    qid, _, pid, rating = row\n",
    "    print(row)\n",
    "    if idx > 5:\n",
    "        break"
   ]
  },
  {
   "cell_type": "code",
   "execution_count": 5,
   "metadata": {},
   "outputs": [
    {
     "name": "stdout",
     "output_type": "stream",
     "text": [
      "读取文件的格式为('qid', 'query')\n",
      "val_2021_53_queries(qid='2082', query='At about what age do adults normally begin to lose bone mass?')\n",
      "val_2021_53_queries(qid='540006', query='was friedrich nietzsche an atheist')\n",
      "val_2021_53_queries(qid='23287', query='are landlords liable if someone breaks in a hurts tenant')\n",
      "val_2021_53_queries(qid='300025', query='how many whales are caught in fishing nets off california')\n"
     ]
    }
   ],
   "source": [
    "for idx, row in enumerate(data_processor.yield_file('val_2021_53_queries.tsv')):\n",
    "    print(row)\n",
    "    qid, query = row\n",
    "    if idx > 2:\n",
    "        break"
   ]
  },
  {
   "cell_type": "code",
   "execution_count": 6,
   "metadata": {},
   "outputs": [
    {
     "name": "stdout",
     "output_type": "stream",
     "text": [
      "读取文件的格式为('qid', 'mark', 'pid', 'rank', 'score', 'sys_id')\n",
      "val_2021_passage_top100(qid='2082', mark='Q0', pid='msmarco_passage_45_623131157', rank='1', score='19.820700', sys_id='Anserini')\n",
      "val_2021_passage_top100(qid='2082', mark='Q0', pid='msmarco_passage_10_669481249', rank='2', score='18.954300', sys_id='Anserini')\n",
      "val_2021_passage_top100(qid='2082', mark='Q0', pid='msmarco_passage_10_669572296', rank='3', score='18.954298', sys_id='Anserini')\n",
      "val_2021_passage_top100(qid='2082', mark='Q0', pid='msmarco_passage_66_702392512', rank='4', score='18.954298', sys_id='Anserini')\n"
     ]
    }
   ],
   "source": [
    "for idx, row in enumerate(data_processor.yield_file('val_2021_passage_top100.txt')):\n",
    "    print(row)\n",
    "    qid, _, pid, rank, score, sys_id = row\n",
    "    if idx > 2:\n",
    "        break"
   ]
  },
  {
   "cell_type": "code",
   "execution_count": 7,
   "metadata": {},
   "outputs": [
    {
     "name": "stdout",
     "output_type": "stream",
     "text": [
      "读取文件的格式为('qid', 'mark', 'pid', 'rating')\n",
      "val_2021_qrels_pass_final(qid='2082', mark='0', pid='msmarco_passage_01_552803451', rating='0')\n",
      "val_2021_qrels_pass_final(qid='2082', mark='0', pid='msmarco_passage_01_790431544', rating='0')\n",
      "val_2021_qrels_pass_final(qid='2082', mark='0', pid='msmarco_passage_02_179207466', rating='3')\n",
      "val_2021_qrels_pass_final(qid='2082', mark='0', pid='msmarco_passage_02_179210433', rating='1')\n"
     ]
    }
   ],
   "source": [
    "for idx, row in enumerate(data_processor.yield_file('val_2021.qrels.pass.final.txt')):\n",
    "    print(row)\n",
    "    qid, _, pid, rating = row\n",
    "    if idx > 2:\n",
    "        break"
   ]
  },
  {
   "cell_type": "code",
   "execution_count": 8,
   "metadata": {},
   "outputs": [
    {
     "name": "stdout",
     "output_type": "stream",
     "text": [
      "读取文件的格式为('qid', 'query')\n",
      "test_2022_76_queries(qid='2000511', query='average bahamas temperature at the end of october')\n",
      "test_2022_76_queries(qid='2000719', query='business architect role definition')\n",
      "test_2022_76_queries(qid='2001532', query='example of what a family advocate does')\n",
      "test_2022_76_queries(qid='2001908', query='how do I replace the burners on a ducane grill')\n"
     ]
    }
   ],
   "source": [
    "for idx, row in enumerate(data_processor.yield_file('test_2022_76_queries.tsv')):\n",
    "    print(row)\n",
    "    qid, query = row\n",
    "    if idx > 2:\n",
    "        break"
   ]
  },
  {
   "cell_type": "code",
   "execution_count": 9,
   "metadata": {},
   "outputs": [
    {
     "name": "stdout",
     "output_type": "stream",
     "text": [
      "读取文件的格式为('qid', 'mark', 'pid', 'rank', 'score', 'sys_id')\n",
      "test_2022_passage_top100(qid='2000511', mark='Q0', pid='msmarco_passage_05_149863652', rank='1', score='17.336300', sys_id='Anserini')\n",
      "test_2022_passage_top100(qid='2000511', mark='Q0', pid='msmarco_passage_00_491588004', rank='2', score='16.496099', sys_id='Anserini')\n",
      "test_2022_passage_top100(qid='2000511', mark='Q0', pid='msmarco_passage_00_491587144', rank='3', score='16.268999', sys_id='Anserini')\n",
      "test_2022_passage_top100(qid='2000511', mark='Q0', pid='msmarco_passage_10_615818416', rank='4', score='15.435800', sys_id='Anserini')\n"
     ]
    }
   ],
   "source": [
    "for idx, row in enumerate(data_processor.yield_file('test_2022_passage_top100.txt')):\n",
    "    print(row)\n",
    "    qid, _, pid, rank, score, sys_id = row\n",
    "    if idx > 2:\n",
    "        break"
   ]
  },
  {
   "cell_type": "code",
   "execution_count": 10,
   "metadata": {},
   "outputs": [
    {
     "name": "stdout",
     "output_type": "stream",
     "text": [
      "读取文件的格式为('qid', 'mark', 'pid', 'rating')\n",
      "test_2022_qrels_pass_withDupes(qid='2000511', mark='0', pid='msmarco_passage_00_491550793', rating='0')\n",
      "test_2022_qrels_pass_withDupes(qid='2000511', mark='0', pid='msmarco_passage_00_491572639', rating='0')\n",
      "test_2022_qrels_pass_withDupes(qid='2000511', mark='0', pid='msmarco_passage_00_491574814', rating='0')\n",
      "test_2022_qrels_pass_withDupes(qid='2000511', mark='0', pid='msmarco_passage_00_491575627', rating='0')\n"
     ]
    }
   ],
   "source": [
    "for idx, row in enumerate(data_processor.yield_file('test_2022.qrels.pass.withDupes.txt')):\n",
    "    print(row)\n",
    "    qid, _, pid, rating = row\n",
    "    if idx > 2:\n",
    "        break"
   ]
  },
  {
   "cell_type": "code",
   "execution_count": 11,
   "metadata": {},
   "outputs": [
    {
     "data": {
      "text/html": [
       "<span class=\"tex2jax_ignore\"><svg xmlns=\"http://www.w3.org/2000/svg\" xmlns:xlink=\"http://www.w3.org/1999/xlink\" xml:lang=\"en\" id=\"c88c360cf0054b9da87459b19c8754d4-0\" class=\"displacy\" width=\"1625\" height=\"399.5\" direction=\"ltr\" style=\"max-width: none; height: 399.5px; color: #000000; background: #ffffff; font-family: Arial; direction: ltr\">\n",
       "<text class=\"displacy-token\" fill=\"currentColor\" text-anchor=\"middle\" y=\"309.5\">\n",
       "    <tspan class=\"displacy-word\" fill=\"currentColor\" x=\"50\">The</tspan>\n",
       "    <tspan class=\"displacy-tag\" dy=\"2em\" fill=\"currentColor\" x=\"50\">DET</tspan>\n",
       "</text>\n",
       "\n",
       "<text class=\"displacy-token\" fill=\"currentColor\" text-anchor=\"middle\" y=\"309.5\">\n",
       "    <tspan class=\"displacy-word\" fill=\"currentColor\" x=\"225\">quick</tspan>\n",
       "    <tspan class=\"displacy-tag\" dy=\"2em\" fill=\"currentColor\" x=\"225\">ADJ</tspan>\n",
       "</text>\n",
       "\n",
       "<text class=\"displacy-token\" fill=\"currentColor\" text-anchor=\"middle\" y=\"309.5\">\n",
       "    <tspan class=\"displacy-word\" fill=\"currentColor\" x=\"400\">brown</tspan>\n",
       "    <tspan class=\"displacy-tag\" dy=\"2em\" fill=\"currentColor\" x=\"400\">ADJ</tspan>\n",
       "</text>\n",
       "\n",
       "<text class=\"displacy-token\" fill=\"currentColor\" text-anchor=\"middle\" y=\"309.5\">\n",
       "    <tspan class=\"displacy-word\" fill=\"currentColor\" x=\"575\">fox</tspan>\n",
       "    <tspan class=\"displacy-tag\" dy=\"2em\" fill=\"currentColor\" x=\"575\">NOUN</tspan>\n",
       "</text>\n",
       "\n",
       "<text class=\"displacy-token\" fill=\"currentColor\" text-anchor=\"middle\" y=\"309.5\">\n",
       "    <tspan class=\"displacy-word\" fill=\"currentColor\" x=\"750\">jumps</tspan>\n",
       "    <tspan class=\"displacy-tag\" dy=\"2em\" fill=\"currentColor\" x=\"750\">VERB</tspan>\n",
       "</text>\n",
       "\n",
       "<text class=\"displacy-token\" fill=\"currentColor\" text-anchor=\"middle\" y=\"309.5\">\n",
       "    <tspan class=\"displacy-word\" fill=\"currentColor\" x=\"925\">over</tspan>\n",
       "    <tspan class=\"displacy-tag\" dy=\"2em\" fill=\"currentColor\" x=\"925\">ADP</tspan>\n",
       "</text>\n",
       "\n",
       "<text class=\"displacy-token\" fill=\"currentColor\" text-anchor=\"middle\" y=\"309.5\">\n",
       "    <tspan class=\"displacy-word\" fill=\"currentColor\" x=\"1100\">the</tspan>\n",
       "    <tspan class=\"displacy-tag\" dy=\"2em\" fill=\"currentColor\" x=\"1100\">DET</tspan>\n",
       "</text>\n",
       "\n",
       "<text class=\"displacy-token\" fill=\"currentColor\" text-anchor=\"middle\" y=\"309.5\">\n",
       "    <tspan class=\"displacy-word\" fill=\"currentColor\" x=\"1275\">lazy</tspan>\n",
       "    <tspan class=\"displacy-tag\" dy=\"2em\" fill=\"currentColor\" x=\"1275\">ADJ</tspan>\n",
       "</text>\n",
       "\n",
       "<text class=\"displacy-token\" fill=\"currentColor\" text-anchor=\"middle\" y=\"309.5\">\n",
       "    <tspan class=\"displacy-word\" fill=\"currentColor\" x=\"1450\">dog.</tspan>\n",
       "    <tspan class=\"displacy-tag\" dy=\"2em\" fill=\"currentColor\" x=\"1450\">NOUN</tspan>\n",
       "</text>\n",
       "\n",
       "<g class=\"displacy-arrow\">\n",
       "    <path class=\"displacy-arc\" id=\"arrow-c88c360cf0054b9da87459b19c8754d4-0-0\" stroke-width=\"2px\" d=\"M70,264.5 C70,2.0 575.0,2.0 575.0,264.5\" fill=\"none\" stroke=\"currentColor\"/>\n",
       "    <text dy=\"1.25em\" style=\"font-size: 0.8em; letter-spacing: 1px\">\n",
       "        <textPath xlink:href=\"#arrow-c88c360cf0054b9da87459b19c8754d4-0-0\" class=\"displacy-label\" startOffset=\"50%\" side=\"left\" fill=\"currentColor\" text-anchor=\"middle\">det</textPath>\n",
       "    </text>\n",
       "    <path class=\"displacy-arrowhead\" d=\"M70,266.5 L62,254.5 78,254.5\" fill=\"currentColor\"/>\n",
       "</g>\n",
       "\n",
       "<g class=\"displacy-arrow\">\n",
       "    <path class=\"displacy-arc\" id=\"arrow-c88c360cf0054b9da87459b19c8754d4-0-1\" stroke-width=\"2px\" d=\"M245,264.5 C245,89.5 570.0,89.5 570.0,264.5\" fill=\"none\" stroke=\"currentColor\"/>\n",
       "    <text dy=\"1.25em\" style=\"font-size: 0.8em; letter-spacing: 1px\">\n",
       "        <textPath xlink:href=\"#arrow-c88c360cf0054b9da87459b19c8754d4-0-1\" class=\"displacy-label\" startOffset=\"50%\" side=\"left\" fill=\"currentColor\" text-anchor=\"middle\">amod</textPath>\n",
       "    </text>\n",
       "    <path class=\"displacy-arrowhead\" d=\"M245,266.5 L237,254.5 253,254.5\" fill=\"currentColor\"/>\n",
       "</g>\n",
       "\n",
       "<g class=\"displacy-arrow\">\n",
       "    <path class=\"displacy-arc\" id=\"arrow-c88c360cf0054b9da87459b19c8754d4-0-2\" stroke-width=\"2px\" d=\"M420,264.5 C420,177.0 565.0,177.0 565.0,264.5\" fill=\"none\" stroke=\"currentColor\"/>\n",
       "    <text dy=\"1.25em\" style=\"font-size: 0.8em; letter-spacing: 1px\">\n",
       "        <textPath xlink:href=\"#arrow-c88c360cf0054b9da87459b19c8754d4-0-2\" class=\"displacy-label\" startOffset=\"50%\" side=\"left\" fill=\"currentColor\" text-anchor=\"middle\">amod</textPath>\n",
       "    </text>\n",
       "    <path class=\"displacy-arrowhead\" d=\"M420,266.5 L412,254.5 428,254.5\" fill=\"currentColor\"/>\n",
       "</g>\n",
       "\n",
       "<g class=\"displacy-arrow\">\n",
       "    <path class=\"displacy-arc\" id=\"arrow-c88c360cf0054b9da87459b19c8754d4-0-3\" stroke-width=\"2px\" d=\"M595,264.5 C595,177.0 740.0,177.0 740.0,264.5\" fill=\"none\" stroke=\"currentColor\"/>\n",
       "    <text dy=\"1.25em\" style=\"font-size: 0.8em; letter-spacing: 1px\">\n",
       "        <textPath xlink:href=\"#arrow-c88c360cf0054b9da87459b19c8754d4-0-3\" class=\"displacy-label\" startOffset=\"50%\" side=\"left\" fill=\"currentColor\" text-anchor=\"middle\">nsubj</textPath>\n",
       "    </text>\n",
       "    <path class=\"displacy-arrowhead\" d=\"M595,266.5 L587,254.5 603,254.5\" fill=\"currentColor\"/>\n",
       "</g>\n",
       "\n",
       "<g class=\"displacy-arrow\">\n",
       "    <path class=\"displacy-arc\" id=\"arrow-c88c360cf0054b9da87459b19c8754d4-0-4\" stroke-width=\"2px\" d=\"M770,264.5 C770,177.0 915.0,177.0 915.0,264.5\" fill=\"none\" stroke=\"currentColor\"/>\n",
       "    <text dy=\"1.25em\" style=\"font-size: 0.8em; letter-spacing: 1px\">\n",
       "        <textPath xlink:href=\"#arrow-c88c360cf0054b9da87459b19c8754d4-0-4\" class=\"displacy-label\" startOffset=\"50%\" side=\"left\" fill=\"currentColor\" text-anchor=\"middle\">prep</textPath>\n",
       "    </text>\n",
       "    <path class=\"displacy-arrowhead\" d=\"M915.0,266.5 L923.0,254.5 907.0,254.5\" fill=\"currentColor\"/>\n",
       "</g>\n",
       "\n",
       "<g class=\"displacy-arrow\">\n",
       "    <path class=\"displacy-arc\" id=\"arrow-c88c360cf0054b9da87459b19c8754d4-0-5\" stroke-width=\"2px\" d=\"M1120,264.5 C1120,89.5 1445.0,89.5 1445.0,264.5\" fill=\"none\" stroke=\"currentColor\"/>\n",
       "    <text dy=\"1.25em\" style=\"font-size: 0.8em; letter-spacing: 1px\">\n",
       "        <textPath xlink:href=\"#arrow-c88c360cf0054b9da87459b19c8754d4-0-5\" class=\"displacy-label\" startOffset=\"50%\" side=\"left\" fill=\"currentColor\" text-anchor=\"middle\">det</textPath>\n",
       "    </text>\n",
       "    <path class=\"displacy-arrowhead\" d=\"M1120,266.5 L1112,254.5 1128,254.5\" fill=\"currentColor\"/>\n",
       "</g>\n",
       "\n",
       "<g class=\"displacy-arrow\">\n",
       "    <path class=\"displacy-arc\" id=\"arrow-c88c360cf0054b9da87459b19c8754d4-0-6\" stroke-width=\"2px\" d=\"M1295,264.5 C1295,177.0 1440.0,177.0 1440.0,264.5\" fill=\"none\" stroke=\"currentColor\"/>\n",
       "    <text dy=\"1.25em\" style=\"font-size: 0.8em; letter-spacing: 1px\">\n",
       "        <textPath xlink:href=\"#arrow-c88c360cf0054b9da87459b19c8754d4-0-6\" class=\"displacy-label\" startOffset=\"50%\" side=\"left\" fill=\"currentColor\" text-anchor=\"middle\">amod</textPath>\n",
       "    </text>\n",
       "    <path class=\"displacy-arrowhead\" d=\"M1295,266.5 L1287,254.5 1303,254.5\" fill=\"currentColor\"/>\n",
       "</g>\n",
       "\n",
       "<g class=\"displacy-arrow\">\n",
       "    <path class=\"displacy-arc\" id=\"arrow-c88c360cf0054b9da87459b19c8754d4-0-7\" stroke-width=\"2px\" d=\"M945,264.5 C945,2.0 1450.0,2.0 1450.0,264.5\" fill=\"none\" stroke=\"currentColor\"/>\n",
       "    <text dy=\"1.25em\" style=\"font-size: 0.8em; letter-spacing: 1px\">\n",
       "        <textPath xlink:href=\"#arrow-c88c360cf0054b9da87459b19c8754d4-0-7\" class=\"displacy-label\" startOffset=\"50%\" side=\"left\" fill=\"currentColor\" text-anchor=\"middle\">pobj</textPath>\n",
       "    </text>\n",
       "    <path class=\"displacy-arrowhead\" d=\"M1450.0,266.5 L1458.0,254.5 1442.0,254.5\" fill=\"currentColor\"/>\n",
       "</g>\n",
       "</svg></span>"
      ],
      "text/plain": [
       "<IPython.core.display.HTML object>"
      ]
     },
     "metadata": {},
     "output_type": "display_data"
    }
   ],
   "source": [
    "doc = nlp('The quick brown fox jumps over the lazy dog.')\n",
    "displacy.render(doc, style='dep', jupyter=True)"
   ]
  },
  {
   "cell_type": "code",
   "execution_count": 12,
   "metadata": {},
   "outputs": [],
   "source": [
    "# with doc.retokenize() as retokenizer:\n",
    "#     retokenizer.merge(doc[1:3], attrs={\"LEMMA\": \"quick_brown_fox\"})\n",
    "# displacy.render(doc, style='dep', jupyter=True)"
   ]
  },
  {
   "cell_type": "code",
   "execution_count": 13,
   "metadata": {},
   "outputs": [
    {
     "data": {
      "text/plain": [
       "'jumps'"
      ]
     },
     "execution_count": 13,
     "metadata": {},
     "output_type": "execute_result"
    }
   ],
   "source": [
    "# 生成依存树\n",
    "\n",
    "class Node:\n",
    "    def __init__(self, text, parent, children, dep):\n",
    "        self.text = text\n",
    "        self.parent = parent\n",
    "        self.children = children\n",
    "        self.dep = dep\n",
    "\n",
    "nodes = {}\n",
    "for token in doc:\n",
    "    node = Node(\n",
    "        text=token.text,\n",
    "        parent=None,\n",
    "        children=set(),\n",
    "        dep=token.dep_\n",
    "    )\n",
    "    nodes[token.text] = node\n",
    "\n",
    "for token in doc:\n",
    "    text, head, dep, head_dep = token.text, token.head.text, token.dep_, token.head.dep_\n",
    "    nodes[text].parent = nodes[head]\n",
    "    nodes[head].children.add(nodes[text])\n",
    "\n",
    "for text, node in nodes.items():\n",
    "    if node.text == node.parent.text:\n",
    "        root = node\n",
    "        break\n",
    "\n",
    "root.text"
   ]
  }
 ],
 "metadata": {
  "kernelspec": {
   "display_name": "whg",
   "language": "python",
   "name": "python3"
  },
  "language_info": {
   "codemirror_mode": {
    "name": "ipython",
    "version": 3
   },
   "file_extension": ".py",
   "mimetype": "text/x-python",
   "name": "python",
   "nbconvert_exporter": "python",
   "pygments_lexer": "ipython3",
   "version": "3.11.3"
  },
  "orig_nbformat": 4
 },
 "nbformat": 4,
 "nbformat_minor": 2
}
