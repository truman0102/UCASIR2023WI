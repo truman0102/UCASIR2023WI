{
 "cells": [
  {
   "cell_type": "code",
   "execution_count": null,
   "metadata": {},
   "outputs": [],
   "source": [
    "import os\n",
    "import csv\n",
    "import json\n",
    "import pickle\n",
    "import pandas as pd\n",
    "import spacy\n",
    "from spacy.lang.en.stop_words import STOP_WORDS\n",
    "from spacy import displacy\n",
    "nlp = spacy.load('en_core_web_sm')\n",
    "\n",
    "from utils import Data\n",
    "\n",
    "data_processor = Data(root_path=\"../\")\n",
    "\n",
    "for file in data_processor.data_dict.keys():\n",
    "    print(file)"
   ]
  },
  {
   "cell_type": "code",
   "execution_count": null,
   "metadata": {},
   "outputs": [],
   "source": [
    "for idx, row in enumerate(data_processor.yield_file('collection.sampled.tsv')):\n",
    "    pid, passage = row\n",
    "    doc = nlp(passage)\n",
    "    print(f\"Passage ID: {pid}\")\n",
    "    print(f\"Passage content: {passage}\")\n",
    "    print([token.lemma_ for token in doc if not token.is_stop and not token.is_punct and not token.is_space and token.is_alpha])\n",
    "    break"
   ]
  },
  {
   "cell_type": "code",
   "execution_count": null,
   "metadata": {},
   "outputs": [],
   "source": [
    "for idx, row in enumerate(data_processor.yield_file('train_sample_queries.tsv')):\n",
    "    print(row)\n",
    "    qid, query = row\n",
    "    if idx > 2:\n",
    "        break"
   ]
  },
  {
   "cell_type": "code",
   "execution_count": null,
   "metadata": {},
   "outputs": [],
   "source": [
    "for idx, row in enumerate(data_processor.yield_file('train_sample_passv2_qrels.tsv')):\n",
    "    qid, _, pid, rating = row\n",
    "    print(row)\n",
    "    if idx > 5:\n",
    "        break"
   ]
  },
  {
   "cell_type": "code",
   "execution_count": null,
   "metadata": {},
   "outputs": [],
   "source": [
    "for idx, row in enumerate(data_processor.yield_file('val_2021_53_queries.tsv')):\n",
    "    print(row)\n",
    "    qid, query = row\n",
    "    if idx > 2:\n",
    "        break"
   ]
  },
  {
   "cell_type": "code",
   "execution_count": null,
   "metadata": {},
   "outputs": [],
   "source": [
    "for idx, row in enumerate(data_processor.yield_file('val_2021_passage_top100.txt')):\n",
    "    print(row)\n",
    "    qid, _, pid, rank, score, sys_id = row\n",
    "    if idx > 2:\n",
    "        break"
   ]
  },
  {
   "cell_type": "code",
   "execution_count": null,
   "metadata": {},
   "outputs": [],
   "source": [
    "for idx, row in enumerate(data_processor.yield_file('val_2021.qrels.pass.final.txt')):\n",
    "    print(row)\n",
    "    qid, _, pid, rating = row\n",
    "    if idx > 2:\n",
    "        break"
   ]
  },
  {
   "cell_type": "code",
   "execution_count": null,
   "metadata": {},
   "outputs": [],
   "source": [
    "for idx, row in enumerate(data_processor.yield_file('test_2022_76_queries.tsv')):\n",
    "    print(row)\n",
    "    qid, query = row\n",
    "    if idx > 2:\n",
    "        break"
   ]
  },
  {
   "cell_type": "code",
   "execution_count": null,
   "metadata": {},
   "outputs": [],
   "source": [
    "for idx, row in enumerate(data_processor.yield_file('test_2022_passage_top100.txt')):\n",
    "    print(row)\n",
    "    qid, _, pid, rank, score, sys_id = row\n",
    "    if idx > 2:\n",
    "        break"
   ]
  },
  {
   "cell_type": "code",
   "execution_count": null,
   "metadata": {},
   "outputs": [],
   "source": [
    "for idx, row in enumerate(data_processor.yield_file('test_2022.qrels.pass.withDupes.txt')):\n",
    "    print(row)\n",
    "    qid, _, pid, rating = row\n",
    "    if idx > 2:\n",
    "        break"
   ]
  },
  {
   "cell_type": "code",
   "execution_count": null,
   "metadata": {},
   "outputs": [],
   "source": [
    "doc = nlp('The quick brown fox jumps over the lazy dog.')\n",
    "displacy.render(doc, style='dep', jupyter=True)"
   ]
  },
  {
   "cell_type": "code",
   "execution_count": null,
   "metadata": {},
   "outputs": [],
   "source": [
    "# with doc.retokenize() as retokenizer:\n",
    "#     retokenizer.merge(doc[1:3], attrs={\"LEMMA\": \"quick_brown_fox\"})\n",
    "# displacy.render(doc, style='dep', jupyter=True)"
   ]
  },
  {
   "cell_type": "code",
   "execution_count": null,
   "metadata": {},
   "outputs": [],
   "source": [
    "# 生成依存树\n",
    "\n",
    "class Node:\n",
    "    def __init__(self, text, parent, children, dep):\n",
    "        self.text = text\n",
    "        self.parent = parent\n",
    "        self.children = children\n",
    "        self.dep = dep\n",
    "\n",
    "nodes = {}\n",
    "for token in doc:\n",
    "    node = Node(\n",
    "        text=token.text,\n",
    "        parent=None,\n",
    "        children=set(),\n",
    "        dep=token.dep_\n",
    "    )\n",
    "    nodes[token.text] = node\n",
    "\n",
    "for token in doc:\n",
    "    text, head, dep, head_dep = token.text, token.head.text, token.dep_, token.head.dep_\n",
    "    nodes[text].parent = nodes[head]\n",
    "    nodes[head].children.add(nodes[text])\n",
    "\n",
    "for text, node in nodes.items():\n",
    "    if node.text == node.parent.text:\n",
    "        root = node\n",
    "        break\n",
    "\n",
    "root.text"
   ]
  }
 ],
 "metadata": {
  "kernelspec": {
   "display_name": "whg",
   "language": "python",
   "name": "python3"
  },
  "language_info": {
   "codemirror_mode": {
    "name": "ipython",
    "version": 3
   },
   "file_extension": ".py",
   "mimetype": "text/x-python",
   "name": "python",
   "nbconvert_exporter": "python",
   "pygments_lexer": "ipython3",
   "version": "3.11.3"
  },
  "orig_nbformat": 4
 },
 "nbformat": 4,
 "nbformat_minor": 2
}
