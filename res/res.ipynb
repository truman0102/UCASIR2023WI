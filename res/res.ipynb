{
 "cells": [
  {
   "cell_type": "code",
   "execution_count": 13,
   "metadata": {},
   "outputs": [
    {
     "data": {
      "text/plain": [
       "['bert-base-mdoc-bm25.trec',\n",
       " 'freeze-num5-bsz4-lr3e-5-epoch1.trec',\n",
       " 'freeze-strong-num10-bsz4-lr1e-4-epoch2.trec',\n",
       " 'res.ipynb']"
      ]
     },
     "execution_count": 13,
     "metadata": {},
     "output_type": "execute_result"
    }
   ],
   "source": [
    "import os\n",
    "import csv\n",
    "os.listdir()"
   ]
  },
  {
   "cell_type": "code",
   "execution_count": 14,
   "metadata": {},
   "outputs": [],
   "source": [
    "# 读取\n",
    "bert_base = open(\"../data/test_reranker_top100.txt\", \"r\")\n",
    "\n",
    "bert_base_res = []\n",
    "for line in bert_base:\n",
    "    t = line.split(\"\\t\")\n",
    "    t[-1] = \"I_LIKE_IR\"\n",
    "    bert_base_res.append(t)\n",
    "\n",
    "# 写入\n",
    "with open(\"bert_base_top100.txt\", \"w\") as f:\n",
    "    writer = csv.writer(f, delimiter='\\t')\n",
    "    writer.writerows(bert_base_res)"
   ]
  },
  {
   "cell_type": "code",
   "execution_count": 15,
   "metadata": {},
   "outputs": [],
   "source": [
    "model_5 = open(\"freeze-num5-bsz4-lr3e-5-epoch1.trec\", \"r\")\n",
    "\n",
    "model_5_res = []\n",
    "for line in model_5:\n",
    "    t = line.split(\"\\t\")\n",
    "    t[-1] = \"I_LIKE_IR\"\n",
    "    model_5_res.append(t)\n",
    "\n",
    "# 写入\n",
    "with open(\"model_5_top100.txt\", \"w\") as f:\n",
    "    writer = csv.writer(f, delimiter='\\t')\n",
    "    writer.writerows(model_5_res)"
   ]
  },
  {
   "cell_type": "code",
   "execution_count": 17,
   "metadata": {},
   "outputs": [],
   "source": [
    "model_10 = open(\"freeze-strong-num10-bsz4-lr1e-4-epoch2.trec\", \"r\")\n",
    "\n",
    "model_10_res = []\n",
    "for line in model_10:\n",
    "    t = line.split(\"\\t\")\n",
    "    t[-1] = \"I_LIKE_IR\"\n",
    "    model_10_res.append(t)\n",
    "\n",
    "# 写入\n",
    "with open(\"model_10_top100.txt\", \"w\") as f:\n",
    "    writer = csv.writer(f, delimiter='\\t')\n",
    "    writer.writerows(model_10_res)"
   ]
  },
  {
   "cell_type": "code",
   "execution_count": null,
   "metadata": {},
   "outputs": [],
   "source": []
  }
 ],
 "metadata": {
  "kernelspec": {
   "display_name": "whg",
   "language": "python",
   "name": "python3"
  },
  "language_info": {
   "codemirror_mode": {
    "name": "ipython",
    "version": 3
   },
   "file_extension": ".py",
   "mimetype": "text/x-python",
   "name": "python",
   "nbconvert_exporter": "python",
   "pygments_lexer": "ipython3",
   "version": "3.11.3"
  }
 },
 "nbformat": 4,
 "nbformat_minor": 2
}
